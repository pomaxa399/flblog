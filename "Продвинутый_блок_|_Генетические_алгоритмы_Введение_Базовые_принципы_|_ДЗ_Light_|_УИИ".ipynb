{
  "nbformat": 4,
  "nbformat_minor": 0,
  "metadata": {
    "colab": {
      "provenance": [],
      "include_colab_link": true
    },
    "kernelspec": {
      "name": "python3",
      "display_name": "Python 3"
    },
    "language_info": {
      "name": "python"
    },
    "gpuClass": "standard"
  },
  "cells": [
    {
      "cell_type": "markdown",
      "metadata": {
        "id": "view-in-github",
        "colab_type": "text"
      },
      "source": [
        "<a href=\"https://colab.research.google.com/github/pomaxa399/flblog/blob/master/%22%D0%9F%D1%80%D0%BE%D0%B4%D0%B2%D0%B8%D0%BD%D1%83%D1%82%D1%8B%D0%B9_%D0%B1%D0%BB%D0%BE%D0%BA_%7C_%D0%93%D0%B5%D0%BD%D0%B5%D1%82%D0%B8%D1%87%D0%B5%D1%81%D0%BA%D0%B8%D0%B5_%D0%B0%D0%BB%D0%B3%D0%BE%D1%80%D0%B8%D1%82%D0%BC%D1%8B_%D0%92%D0%B2%D0%B5%D0%B4%D0%B5%D0%BD%D0%B8%D0%B5_%D0%91%D0%B0%D0%B7%D0%BE%D0%B2%D1%8B%D0%B5_%D0%BF%D1%80%D0%B8%D0%BD%D1%86%D0%B8%D0%BF%D1%8B_%7C_%D0%94%D0%97_Light_%7C_%D0%A3%D0%98%D0%98%22.ipynb\" target=\"_parent\"><img src=\"https://colab.research.google.com/assets/colab-badge.svg\" alt=\"Open In Colab\"/></a>"
      ]
    },
    {
      "cell_type": "markdown",
      "metadata": {
        "id": "4tuEUOTKE2BI"
      },
      "source": [
        "# Уровень Light\n",
        "Сделайте имитацию подбора пароля с помощью генетического алгоритма"
      ]
    },
    {
      "cell_type": "markdown",
      "source": [
        "Дополнительные пояснения к заданию:\n",
        "1. В качестве функции ошибки можете использовать вот такой подход:\n",
        "\n",
        "        def estimate_bot(bot):\n",
        "            error = len(password) \n",
        "            # в цикле проходим по каждой букве\n",
        "            # сравниваем с каждой буквой в реальном пароле\n",
        "            # при каждом совпадении вычитаем единицу из ошибки\n",
        "            for i in range(len(password)):\n",
        "               if bot[i] == password[i]: # проверяем совпадают ли буквы\n",
        "                    error -= 1 # вычитаем единицу. если совпадают\n",
        "            return bot, error\n",
        "\n",
        "    В реальных условиях такой подход естественно не сработает, поскольку мы не знаем реальный пароль. Но цель этого домашнего задания - тренировка работы с генетическими алгоритмами, а не создание взломщика паролей :)\n",
        "\n",
        "2. Сама задача может оказаться довольно сложной (в зависимости от длины исходного пароля) и потребовать значительного времени вычисления, поэтому результат с ошибкой менее 4 символов будет считаться хорошим результатом"
      ],
      "metadata": {
        "id": "PhodS1j1xpt2"
      }
    },
    {
      "cell_type": "code",
      "source": [
        "import random\n",
        "import string\n",
        "\n",
        "population_size = 100\n",
        "password_charset = string.digits + string.ascii_letters + ' '\n",
        "target_password = 'password123'\n",
        "elitism_rate = .2\n",
        "mutation_rate = .1\n",
        "max_generations = 1000"
      ],
      "metadata": {
        "id": "dKrYTNhqwenF"
      },
      "execution_count": 140,
      "outputs": []
    },
    {
      "cell_type": "code",
      "source": [
        "def generate_random_string(length, charset):\n",
        "    return ''.join(random.choice(charset) for _ in range(length))\n",
        "\n",
        "# Создание начальной популяции\n",
        "population = [generate_random_string(len(target_password), password_charset)\n",
        "              for _ in range(population_size)]\n",
        "print(population)"
      ],
      "metadata": {
        "colab": {
          "base_uri": "https://localhost:8080/"
        },
        "id": "mTdGRrhkXejo",
        "outputId": "f02529bf-c778-4b6a-ab36-8c06847cfe8b"
      },
      "execution_count": 142,
      "outputs": [
        {
          "output_type": "stream",
          "name": "stdout",
          "text": [
            "['k0YPQ9fU67h', 'bCCtYv3tOLk', 'dVcaJuFnIg7', 'kMTOpZxWq9h', 'BDb3W1j8tBx', 'E2JBluV JMD', 'GrzTNiOBNEO', 'SiT7fWZuHg3', 'oLTXiID5zoq', 'IXAR8A2 SJr', 'gU5PTvY8M4 ', 'RXwiEv6Av5C', 'PwRQKcYxuy1', 'Uz5YDsNtogj', 'ps5wik idTO', '9b0dXQnfboW', 'kmH5iQXiPfy', 'fwZz7aLXx4u', '1zsWYchON6J', 'seoReeieFW8', 'vqwb7vs4QsI', 'mMtmaSEaJhl', 'rA4IbGEhW77', 'pibK qfJYVP', 'yeg8EEdE7wV', 'Vc7fleZ6B0l', 'lTIX0ydzrWT', 'MEj cjmuFtf', 'PlBoZv6uK78', 'xnkf4anYB8z', 'rDln9mwpXnN', 'IWNH 6ncwX ', ' NxSKmoNC97', ' p3WqUgMvad', 'LpRcokhWlbG', 'nq7aup26hBS', 'Tkgn9B3XkEs', 'jJ DeQCgBLP', 'PiC1PQTzsvm', 'kGNF0pLky6u', 'mOohuFm0nSt', 'h5vJutKR8JJ', 'RD1BMyS5LEJ', 'I5Klm1kyIOj', '4bSy6iG DW7', 'xfDtst5y9BI', '76xls0EKmxB', 'h2veP8rhb8 ', 'lFyIt8CThxJ', 'JFNDJjpxfhL', '9hZftjiZI7C', 'ssLBxPQUILo', 'CvOTKI3LDNu', '3lORHRuOyT6', '2mR18LKSaxn', 'nni7WY5z49V', 'FVQMeCdOp4j', 'DDF0emT3f w', 'ItDzSZkJcBQ', 'OLlmpSyyPcp', 'ZeSERiEI9RZ', 'fDF2 g 32cU', 'CcY0RglOaDd', 'oVSPRtooSaG', 'Vr5kOMyr7fL', '3eKOGFEnMgP', 'yAdZZsMVI3z', 'I3Wn1dyMqfF', 'SrxKKpusyul', 'wNdD7XvIdQ7', 'jj8uPRYRc5n', '9m38xV7DIFq', 'CPcojWOjKuR', '3ZjrA1pU5pV', '6hS2CucgABs', 'UKWZ3KANHCU', 'k1TRxfwL8mp', 'QC68S4ZxINH', 'iiqWjoWlGke', 'o1gASmBjNEg', 'nPiz15OLgj2', 'ykII fSR2Dj', 'SwqMl21oQVD', 'Lc8wEikEkq1', 'GfuQw6FQIub', ' 4 wlOiJUfY', 'iD91us6x3mt', 'OaNH5I94vl7', 'limfjTvlBUc', 'DWnI6haXdhQ', 'u754QUqyxR3', 'aVt1XoVwVyG', 'TKUM7KbWopu', '5tFic7V U8C', 'oF91qICzIFs', '1006UQbYWIv', '8D1Wvix8Yv4', '5ezql8bwlxs', 'Nbiw7yzgb12', 'nnOJzIXywlH']\n"
          ]
        }
      ]
    },
    {
      "cell_type": "code",
      "source": [
        "def fitness(password, test_password):\n",
        "    return sum(1 for a, b in zip(password, test_password) if a == b)\n",
        "\n",
        "# Оценка приспособленности\n",
        "fitness_scores = [fitness(target_password, test_password) for test_password in population]\n",
        "print(fitness_scores)"
      ],
      "metadata": {
        "colab": {
          "base_uri": "https://localhost:8080/"
        },
        "id": "PEFshN9eYQWI",
        "outputId": "8caafbb1-d59e-4eaf-c2a0-03489799830b"
      },
      "execution_count": 143,
      "outputs": [
        {
          "output_type": "stream",
          "name": "stdout",
          "text": [
            "[0, 0, 0, 0, 0, 0, 0, 1, 0, 0, 0, 0, 0, 0, 1, 0, 0, 0, 1, 0, 0, 0, 0, 1, 0, 0, 0, 0, 0, 0, 0, 0, 0, 0, 0, 0, 0, 0, 0, 0, 0, 0, 0, 0, 0, 0, 0, 1, 0, 0, 0, 0, 0, 0, 0, 0, 0, 0, 0, 0, 0, 0, 0, 0, 0, 0, 0, 0, 0, 0, 0, 0, 0, 0, 0, 0, 0, 0, 1, 0, 0, 0, 0, 0, 1, 0, 0, 1, 0, 0, 1, 1, 0, 0, 0, 0, 0, 0, 0, 0]\n"
          ]
        }
      ]
    },
    {
      "cell_type": "code",
      "source": [
        "def proportional_selection(population, fitness_scores):\n",
        "    total_fitness = sum(fitness_scores)\n",
        "    probabilities = [score / total_fitness for score in fitness_scores]\n",
        "    return random.choices(population, weights=probabilities, k=2)\n",
        "\n",
        "# Отбор родителей\n",
        "parents = [proportional_selection(population, fitness_scores) for _ in range(int(population_size * (1 - elitism_rate) / 2))]"
      ],
      "metadata": {
        "id": "d6RfIZMfacOf"
      },
      "execution_count": 144,
      "outputs": []
    }
  ]
}